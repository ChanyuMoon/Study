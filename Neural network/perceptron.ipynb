{
 "cells": [
  {
   "cell_type": "markdown",
   "metadata": {},
   "source": [
    "# Perceptron\n",
    "1. Single Layer Perceptron  \n",
    "    - AND gate\n",
    "    - OR gate\n",
    "    - XOR gate  \n",
    "\n",
    "We are going to make a gate based on Single Layer Perceptron with to inputs(x_1, x_2 and bias).  \n",
    "**CONDITIONS**  \n",
    "- inputs : 1, 0  \n",
    "- Threshold : 0  "
   ]
  },
  {
   "cell_type": "code",
   "execution_count": 3,
   "metadata": {},
   "outputs": [
    {
     "name": "stdout",
     "output_type": "stream",
     "text": [
      "1\n",
      "0\n",
      "0\n",
      "0\n"
     ]
    }
   ],
   "source": [
    "# AND gate\n",
    "def AND_gate(x_1, x_2):\n",
    "    w_1 = 1\n",
    "    w_2 = 1\n",
    "    b_1 = -1.5\n",
    "    val_steped = 1 if w_1*x_1 + w_2*x_2 + b_1 > 0 else 0\n",
    "    return val_steped\n",
    "\n",
    "print(AND_gate(1,1))\n",
    "print(AND_gate(0,1))\n",
    "print(AND_gate(1,0))\n",
    "print(AND_gate(0,0))\n"
   ]
  },
  {
   "cell_type": "code",
   "execution_count": 6,
   "metadata": {},
   "outputs": [
    {
     "name": "stdout",
     "output_type": "stream",
     "text": [
      "gate(1,1,AND) -> 1 ,Answer : 1\n",
      "gate(0,1,AND) -> 0 ,Answer : 0\n",
      "gate(1,0,AND) -> 0 ,Answer : 0\n",
      "gate(0,0,AND) -> 0 ,Answer : 0\n",
      "gate(1,1,OR) -> 1 ,Answer : 1\n",
      "gate(0,1,OR) -> 1 ,Answer : 1\n",
      "gate(1,0,OR) -> 1 ,Answer : 1\n",
      "gate(0,0,OR) -> 0 ,Answer : 0\n",
      "gate(1,1,XOR) -> 0 ,Answer : 0\n",
      "gate(0,1,XOR) -> 0 ,Answer : 0\n",
      "gate(1,0,XOR) -> 0 ,Answer : 0\n",
      "gate(0,0,XOR) -> 1 ,Answer : 1\n"
     ]
    }
   ],
   "source": [
    "def gate(x_1, x_2, type_of_gate):\n",
    "    _gate_dic = {\"AND\":{\"w_1\":1, \"w_2\":1, \"b\":-1.5}\n",
    "                ,\"OR\":{\"w_1\":1, \"w_2\":1, \"b\":-0.5}\n",
    "                ,\"XOR\":{\"w_1\":-1, \"w_2\":-1, \"b\":0.5}}\n",
    "    selected_gate = _gate_dic[type_of_gate]\n",
    "    w_1, w_2, b = selected_gate[\"w_1\"], selected_gate[\"w_2\"], selected_gate[\"b\"]\n",
    "    val_steped = 1 if w_1*x_1 + w_2*x_2 + b > 0 else 0\n",
    "    return val_steped\n",
    "ans = {\"AND\":[1,0,0,0]\n",
    "       ,\"OR\":[1,1,1,0]\n",
    "       ,\"XOR\":[0,0,0,1]}\n",
    "\n",
    "for t in ans.keys():\n",
    "    for n in range(4):\n",
    "        cases = [(1,1), (0,1), (1,0), (0,0)]\n",
    "        i, j = cases[n][0], cases[n][1]\n",
    "        print(f\"gate({i},{j},{t}) -> {gate(i,j,t)} ,Answer : {ans[t][n]}\")\n"
   ]
  }
 ],
 "metadata": {
  "interpreter": {
   "hash": "d9a47bf3fba8e64d883a7211d2ba8e19815cd7f7680bcb3a559f24135be29f44"
  },
  "kernelspec": {
   "display_name": "Python 3",
   "language": "python",
   "name": "python3"
  },
  "language_info": {
   "codemirror_mode": {
    "name": "ipython",
    "version": 3
   },
   "file_extension": ".py",
   "mimetype": "text/x-python",
   "name": "python",
   "nbconvert_exporter": "python",
   "pygments_lexer": "ipython3",
   "version": "3.7.6"
  }
 },
 "nbformat": 4,
 "nbformat_minor": 2
}
