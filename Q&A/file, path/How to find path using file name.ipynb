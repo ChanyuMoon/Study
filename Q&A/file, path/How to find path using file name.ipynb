{
 "metadata": {
  "language_info": {
   "codemirror_mode": {
    "name": "ipython",
    "version": 3
   },
   "file_extension": ".py",
   "mimetype": "text/x-python",
   "name": "python",
   "nbconvert_exporter": "python",
   "pygments_lexer": "ipython3",
   "version": "3.7.6"
  },
  "orig_nbformat": 4,
  "kernelspec": {
   "name": "python3",
   "display_name": "Python 3.7.6 64-bit ('base': conda)"
  },
  "interpreter": {
   "hash": "61b05ad603197aa669e9be10cf129a311c7c09f5a7d1a95550736e0f0f48c95c"
  }
 },
 "nbformat": 4,
 "nbformat_minor": 2,
 "cells": [
  {
   "source": [
    "- How to find a givin file.\n",
    "https://stackoverflow.com/questions/1124810/how-can-i-find-path-to-given-file/50726847\n",
    "\n",
    "- Search derectories using os in python.\n",
    "https://codechacha.com/ko/python-walk-files/"
   ],
   "cell_type": "markdown",
   "metadata": {}
  },
  {
   "cell_type": "code",
   "execution_count": 23,
   "metadata": {},
   "outputs": [],
   "source": [
    "import os"
   ]
  },
  {
   "cell_type": "code",
   "execution_count": 29,
   "metadata": {},
   "outputs": [
    {
     "output_type": "stream",
     "name": "stdout",
     "text": [
      "c:\\Users\\ansck\\projects\\Study\\Q&A\\How to find path using file name.ipynb\n"
     ]
    }
   ],
   "source": [
    "file_names = \"How to find path using file name.ipynb\"\n",
    "\n",
    "for r,d,f in os.walk(\"c:\\\\\"):\n",
    "    for files in f:\n",
    "        if files == file_names:\n",
    "             print(os.path.join(r,files))"
   ]
  },
  {
   "cell_type": "code",
   "execution_count": null,
   "metadata": {},
   "outputs": [],
   "source": []
  }
 ]
}